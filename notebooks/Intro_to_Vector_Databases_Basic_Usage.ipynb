{
  "nbformat": 4,
  "nbformat_minor": 0,
  "metadata": {
    "colab": {
      "provenance": []
    },
    "kernelspec": {
      "name": "python3",
      "display_name": "Python 3"
    },
    "language_info": {
      "name": "python"
    }
  },
  "cells": [
    {
      "cell_type": "markdown",
      "source": [
        "# Install dependencies"
      ],
      "metadata": {
        "id": "LwcQjs6uTUTr"
      }
    },
    {
      "cell_type": "code",
      "execution_count": 2,
      "metadata": {
        "id": "8qZsAlv7OQFg"
      },
      "outputs": [],
      "source": [
        "%%capture\n",
        "\n",
        "# Takes about 1 minute to install all dependencies.\n",
        "\n",
        "!pip install chromadb         # ChromaDB vector database\n",
        "!pip install faiss-cpu        # FAISS vector database\n",
        "!pip install pinecone-client  # Pinecone vector database client\n",
        "\n",
        "!pip install openai[embeddings]     # OpenAI embeddings (requires API key)\n",
        "!pip install sentence-transformers  # For generating embeddings using sentence transformers models\n",
        "\n",
        "!pip install protoc-gen-openapiv2 # Protobuf support (pinecone dependency)\n",
        "\n",
        "!pip install mmh3  # Murmur3 hash algorithm"
      ]
    },
    {
      "cell_type": "code",
      "source": [
        "!pip install protoc-gen-openapiv2 # Protobuf support (pinecone dependency)\n"
      ],
      "metadata": {
        "colab": {
          "base_uri": "https://localhost:8080/"
        },
        "id": "LBDVgPJy27Z-",
        "outputId": "97d37d25-2c4f-41cb-e4be-acbe30ce7ed9"
      },
      "execution_count": 30,
      "outputs": [
        {
          "output_type": "stream",
          "name": "stdout",
          "text": [
            "Collecting protoc-gen-openapiv2\n",
            "  Downloading protoc_gen_openapiv2-0.0.1-py3-none-any.whl (7.9 kB)\n",
            "Requirement already satisfied: googleapis-common-protos in /usr/local/lib/python3.10/dist-packages (from protoc-gen-openapiv2) (1.63.1)\n",
            "Collecting protobuf>=4.21.0 (from protoc-gen-openapiv2)\n",
            "  Downloading protobuf-5.27.2-cp38-abi3-manylinux2014_x86_64.whl (309 kB)\n",
            "\u001b[2K     \u001b[90m━━━━━━━━━━━━━━━━━━━━━━━━━━━━━━━━━━━━━━━━\u001b[0m \u001b[32m309.3/309.3 kB\u001b[0m \u001b[31m5.3 MB/s\u001b[0m eta \u001b[36m0:00:00\u001b[0m\n",
            "\u001b[?25hInstalling collected packages: protobuf, protoc-gen-openapiv2\n",
            "  Attempting uninstall: protobuf\n",
            "    Found existing installation: protobuf 3.20.3\n",
            "    Uninstalling protobuf-3.20.3:\n",
            "      Successfully uninstalled protobuf-3.20.3\n",
            "\u001b[31mERROR: pip's dependency resolver does not currently take into account all the packages that are installed. This behaviour is the source of the following dependency conflicts.\n",
            "cudf-cu12 24.4.1 requires protobuf<5,>=3.20, but you have protobuf 5.27.2 which is incompatible.\n",
            "google-ai-generativelanguage 0.6.4 requires protobuf!=3.20.0,!=3.20.1,!=4.21.0,!=4.21.1,!=4.21.2,!=4.21.3,!=4.21.4,!=4.21.5,<5.0.0dev,>=3.19.5, but you have protobuf 5.27.2 which is incompatible.\n",
            "google-api-core 2.11.1 requires protobuf!=3.20.0,!=3.20.1,!=4.21.0,!=4.21.1,!=4.21.2,!=4.21.3,!=4.21.4,!=4.21.5,<5.0.0.dev0,>=3.19.5, but you have protobuf 5.27.2 which is incompatible.\n",
            "google-cloud-aiplatform 1.56.0 requires protobuf!=3.20.0,!=3.20.1,!=4.21.0,!=4.21.1,!=4.21.2,!=4.21.3,!=4.21.4,!=4.21.5,<5.0.0dev,>=3.19.5, but you have protobuf 5.27.2 which is incompatible.\n",
            "google-cloud-bigquery-connection 1.12.1 requires protobuf!=3.20.0,!=3.20.1,!=4.21.0,!=4.21.1,!=4.21.2,!=4.21.3,!=4.21.4,!=4.21.5,<5.0.0dev,>=3.19.5, but you have protobuf 5.27.2 which is incompatible.\n",
            "google-cloud-bigquery-storage 2.25.0 requires protobuf!=3.20.0,!=3.20.1,!=4.21.0,!=4.21.1,!=4.21.2,!=4.21.3,!=4.21.4,!=4.21.5,<5.0.0dev,>=3.19.5, but you have protobuf 5.27.2 which is incompatible.\n",
            "google-cloud-datastore 2.15.2 requires protobuf!=3.20.0,!=3.20.1,!=4.21.0,!=4.21.1,!=4.21.2,!=4.21.3,!=4.21.4,!=4.21.5,<5.0.0dev,>=3.19.5, but you have protobuf 5.27.2 which is incompatible.\n",
            "google-cloud-firestore 2.11.1 requires protobuf!=3.20.0,!=3.20.1,!=4.21.0,!=4.21.1,!=4.21.2,!=4.21.3,!=4.21.4,!=4.21.5,<5.0.0dev,>=3.19.5, but you have protobuf 5.27.2 which is incompatible.\n",
            "google-cloud-functions 1.13.3 requires protobuf!=3.20.0,!=3.20.1,!=4.21.0,!=4.21.1,!=4.21.2,!=4.21.3,!=4.21.4,!=4.21.5,<5.0.0dev,>=3.19.5, but you have protobuf 5.27.2 which is incompatible.\n",
            "google-cloud-iam 2.15.0 requires protobuf!=3.20.0,!=3.20.1,!=4.21.0,!=4.21.1,!=4.21.2,!=4.21.3,!=4.21.4,!=4.21.5,<5.0.0dev,>=3.19.5, but you have protobuf 5.27.2 which is incompatible.\n",
            "google-cloud-language 2.13.3 requires protobuf!=3.20.0,!=3.20.1,!=4.21.0,!=4.21.1,!=4.21.2,!=4.21.3,!=4.21.4,!=4.21.5,<5.0.0dev,>=3.19.5, but you have protobuf 5.27.2 which is incompatible.\n",
            "google-cloud-resource-manager 1.12.3 requires protobuf!=3.20.0,!=3.20.1,!=4.21.0,!=4.21.1,!=4.21.2,!=4.21.3,!=4.21.4,!=4.21.5,<5.0.0dev,>=3.19.5, but you have protobuf 5.27.2 which is incompatible.\n",
            "google-cloud-translate 3.11.3 requires protobuf!=3.20.0,!=3.20.1,!=4.21.0,!=4.21.1,!=4.21.2,!=4.21.3,!=4.21.4,!=4.21.5,<5.0.0dev,>=3.19.5, but you have protobuf 5.27.2 which is incompatible.\n",
            "grpc-google-iam-v1 0.13.0 requires protobuf!=3.20.0,!=3.20.1,!=4.21.1,!=4.21.2,!=4.21.3,!=4.21.4,!=4.21.5,<5.0.0dev,>=3.19.5, but you have protobuf 5.27.2 which is incompatible.\n",
            "opentelemetry-proto 1.25.0 requires protobuf<5.0,>=3.19, but you have protobuf 5.27.2 which is incompatible.\n",
            "tensorflow 2.15.0 requires protobuf!=4.21.0,!=4.21.1,!=4.21.2,!=4.21.3,!=4.21.4,!=4.21.5,<5.0.0dev,>=3.20.3, but you have protobuf 5.27.2 which is incompatible.\n",
            "tensorflow-metadata 1.15.0 requires protobuf<4.21,>=3.20.3; python_version < \"3.11\", but you have protobuf 5.27.2 which is incompatible.\u001b[0m\u001b[31m\n",
            "\u001b[0mSuccessfully installed protobuf-5.27.2 protoc-gen-openapiv2-0.0.1\n"
          ]
        }
      ]
    },
    {
      "cell_type": "markdown",
      "source": [
        "# Test data\n",
        "Here we're just setting up some data that we will insert into the vector databases."
      ],
      "metadata": {
        "id": "3BkhKKNx5JDh"
      }
    },
    {
      "cell_type": "code",
      "source": [
        "math_statements = [\n",
        "    \"The area of a rectangle with dimensions L & W is LH.\",\n",
        "    \"The area of a circle with radius R is `πR²`.\",\n",
        "    \"The area of a triangle with base B and height H is `½ BH`.\",\n",
        "    \"The area of a trapezoid with parallel sides A, B and height H is `H(A+B)/2`.\",\n",
        "    \"The area of a parallelogram with base B and height H is BH.\",\n",
        "    \"The surface area of a retangular prism with dimensions H, L, B is `2(LB + BH + HL)`.\",\n",
        "    \"The surface area of a right circular cone with radius of base R and height H is `2πRH`.\",\n",
        "  ]\n",
        "\n",
        "pets_statements = [\n",
        "    \"\"\"\n",
        "    As an integrated part of modern life, animals play the role of domestic companions, give\n",
        "physical and emotional support to humans, and provide value to many types of organizations\n",
        "(e.g., search and rescue dogs, zoo animals). Animals are also becoming more present in\n",
        "organizations due to employees and customers who bring their pets into the workplace. In\n",
        "addition, the integration of pets into individuals’ family lives also plays an important role in\n",
        "employees’ work-family dynamics.\n",
        "    \"\"\",\n",
        "    \"\"\"\n",
        "     Even though animals are becoming more present in\n",
        "organizational life and play an influential role in employees’ lives, management research has\n",
        "lagged behind these social trends. Therefore, we seek to define the ways in which animals\n",
        "intersect with organizations, highlight opportunities for theory development, and illustrate\n",
        "important areas for future research.\n",
        "    \"\"\",\n",
        "    \"\"\"\n",
        "    To provide more precision about how animals relate to organizations, we posit four types of\n",
        "animals that intersect with organizations: 1) animals who work alongside humans, 2) animals as\n",
        "the focus of organizations or employees, 3) companion animals brought into the workplace by\n",
        "employees or customers, and 4) employees’ companion animals that stay at home.\n",
        "    \"\"\",\n",
        "    \"\"\"\n",
        "    The offices of dentists and doctors often include fish tanks in their patient waiting\n",
        "areas, and previous research has shown that having a fish tank might decrease stress for patients.\n",
        "    \"\"\",\n",
        "    \"\"\"\n",
        "    Employees might feel left out if they are required to avoid certain areas of\n",
        "the office due to an allergy or a fear of dogs or cats\n",
        "    \"\"\",\n",
        "  ]\n",
        "\n",
        "all_statements = math_statements + pets_statements"
      ],
      "metadata": {
        "id": "opuRPKki5Tqr"
      },
      "execution_count": 15,
      "outputs": []
    },
    {
      "cell_type": "markdown",
      "source": [
        "# Using Vector Databases"
      ],
      "metadata": {
        "id": "yDh6Z-w2atEn"
      }
    },
    {
      "cell_type": "markdown",
      "source": [
        "## ChromaDB\n",
        "\n",
        "(Ref: [https://www.trychroma.com/](https://www.trychroma.com/))\n",
        "\n",
        "ChromaDB is an open-source vector database system. It can be used for storing & searching unstructured data like documents & images.\n"
      ],
      "metadata": {
        "id": "bevEJA_64tP_"
      }
    },
    {
      "cell_type": "markdown",
      "source": [
        "First, we will create an empty ChromaDB collection."
      ],
      "metadata": {
        "id": "iO_NeFba8ONU"
      }
    },
    {
      "cell_type": "code",
      "source": [
        "import chromadb\n",
        "chroma_client = chromadb.Client()\n",
        "\n",
        "facts_collection = chroma_client.get_or_create_collection(name=\"interesting_facts\")"
      ],
      "metadata": {
        "id": "C0vxGGKe4cO4"
      },
      "execution_count": 4,
      "outputs": []
    },
    {
      "cell_type": "markdown",
      "source": [
        "Now we upsert the data into the collection.\n",
        "\n",
        "*(You may also use `add` instead of `upsert` in the example below. The semantics of `add` vs `upsert` are what you'd expect intuitively)*"
      ],
      "metadata": {
        "id": "XVyDPlqG8JPF"
      }
    },
    {
      "cell_type": "code",
      "source": [
        "import mmh3\n",
        "\n",
        "# Upsert the math facts to the collection\n",
        "facts_collection.upsert(\n",
        "    ids=[hex(mmh3.hash(statement)) for statement in math_statements],\n",
        "    documents=math_statements,\n",
        "    metadatas=[{\"source\": \"math\"} for _ in math_statements],\n",
        ")\n",
        "\n",
        "# Upsert the pet statements to the collection\n",
        "facts_collection.upsert(\n",
        "    ids=[hex(mmh3.hash(statement)) for statement in pets_statements],\n",
        "    documents=pets_statements,\n",
        "    metadatas=[{\"source\": \"pets\"} for _ in pets_statements],\n",
        ")\n",
        "\n",
        "facts_collection.count()"
      ],
      "metadata": {
        "colab": {
          "base_uri": "https://localhost:8080/"
        },
        "id": "xN_2MfoH464d",
        "outputId": "4fcbe2ba-6e1e-42b4-ca7f-c5eb3ccbd273"
      },
      "execution_count": 5,
      "outputs": [
        {
          "output_type": "stream",
          "name": "stderr",
          "text": [
            "/root/.cache/chroma/onnx_models/all-MiniLM-L6-v2/onnx.tar.gz: 100%|██████████| 79.3M/79.3M [00:02<00:00, 28.8MiB/s]\n"
          ]
        },
        {
          "output_type": "execute_result",
          "data": {
            "text/plain": [
              "12"
            ]
          },
          "metadata": {},
          "execution_count": 5
        }
      ]
    },
    {
      "cell_type": "markdown",
      "source": [
        "Notes:\n",
        "1. We are providing 3 pieces of information for each item that we insert:  \n",
        "   a. `id` which is calculated as the murmur3 hash of the content.\n",
        "   b. text value as a `document`.  \n",
        "   c. `metadata` that contains the key-value pair   `source` and either math or pets as the value.\n",
        "2. The ChromaDB library call to `upsert` (and `add`) is columnar in nature.\n",
        "\n",
        "\n",
        "<hr/>"
      ],
      "metadata": {
        "id": "uVI_lrxOD5b3"
      }
    },
    {
      "cell_type": "markdown",
      "source": [
        "🔎 Now let's query the collection for a fact that we know exists."
      ],
      "metadata": {
        "id": "abETMWJC8ctA"
      }
    },
    {
      "cell_type": "code",
      "source": [
        "results = facts_collection.query(query_texts=[\"What is the area of a trapezoid?\"], n_results=3)\n",
        "results"
      ],
      "metadata": {
        "colab": {
          "base_uri": "https://localhost:8080/"
        },
        "id": "rx0zE0j97tcC",
        "outputId": "f8cdb45d-bfc7-4899-9cc2-93a8544dca36",
        "collapsed": true
      },
      "execution_count": 25,
      "outputs": [
        {
          "output_type": "execute_result",
          "data": {
            "text/plain": [
              "{'ids': [['0x568ae5b4', '-0x46830a05', '-0x52bebbd3']],\n",
              " 'distances': [[0.49865448474884033, 0.8906270265579224, 1.0057439804077148]],\n",
              " 'metadatas': [[{'source': 'math'}, {'source': 'math'}, {'source': 'math'}]],\n",
              " 'embeddings': None,\n",
              " 'documents': [['The area of a trapezoid with parallel sides A, B and height H is `H(A+B)/2`.',\n",
              "   'The area of a parallelogram with base B and height H is BH.',\n",
              "   'The area of a triangle with base B and height H is `½ BH`.']],\n",
              " 'uris': None,\n",
              " 'data': None,\n",
              " 'included': ['metadatas', 'documents', 'distances']}"
            ]
          },
          "metadata": {},
          "execution_count": 25
        }
      ]
    },
    {
      "cell_type": "markdown",
      "source": [
        "Let's just look at the top result of the one query."
      ],
      "metadata": {
        "id": "gUQGuOXi18r4"
      }
    },
    {
      "cell_type": "code",
      "source": [
        "results['documents'][0][0]"
      ],
      "metadata": {
        "colab": {
          "base_uri": "https://localhost:8080/",
          "height": 36
        },
        "id": "dQHuxD8L1oz2",
        "outputId": "ff9ee93b-9c56-4735-b07d-0947f281cc8a"
      },
      "execution_count": 26,
      "outputs": [
        {
          "output_type": "execute_result",
          "data": {
            "text/plain": [
              "'The area of a trapezoid with parallel sides A, B and height H is `H(A+B)/2`.'"
            ],
            "application/vnd.google.colaboratory.intrinsic+json": {
              "type": "string"
            }
          },
          "metadata": {},
          "execution_count": 26
        }
      ]
    },
    {
      "cell_type": "markdown",
      "source": [
        "🔎 Let's search with a synonymous term that does not exist as a literal string in the facts collection."
      ],
      "metadata": {
        "id": "Hx7cm4Gc9xcN"
      }
    },
    {
      "cell_type": "code",
      "source": [
        "query_texts = [\n",
        "    \"What is the area of a trapezium?\",\n",
        "    \"What is the area of a rectangular shape?\",\n",
        "    \"What is the surface area of a rectangular prism?\",\n",
        "    \"What is the area of a circular shape?\",\n",
        "    \"What is the surface area of a circular cone?\",\n",
        "    \"What is the area of a cone?\",\n",
        "  ]\n",
        "\n",
        "results = facts_collection.query(query_texts=query_texts, n_results=1)\n",
        "\n",
        "for result in zip(query_texts, results['metadatas'], results['documents']):\n",
        "  query_text = result[0]\n",
        "  metadata = result[1]\n",
        "  document = result[2]\n",
        "  print(query_text, f\"[category: {metadata[0]['source']}]\", document)"
      ],
      "metadata": {
        "colab": {
          "base_uri": "https://localhost:8080/"
        },
        "id": "8R9FQsW-9gmt",
        "outputId": "66034e4f-47b8-4979-a173-74e171d048a6"
      },
      "execution_count": 70,
      "outputs": [
        {
          "output_type": "stream",
          "name": "stdout",
          "text": [
            "What is the area of a trapezium? [category: math] ['The area of a trapezoid with parallel sides A, B and height H is `H(A+B)/2`.']\n",
            "What is the area of a rectangular shape? [category: math] ['The area of a rectangle with dimensions L & W is LH.']\n",
            "What is the surface area of a rectangular prism? [category: math] ['The surface area of a retangular prism with dimensions H, L, B is `2(LB + BH + HL)`.']\n",
            "What is the area of a circular shape? [category: math] ['The area of a circle with radius R is `πR²`.']\n",
            "What is the surface area of a circular cone? [category: math] ['The surface area of a right circular cone with radius of base R and height H is `2πRH`.']\n",
            "What is the area of a cone? [category: math] ['The surface area of a right circular cone with radius of base R and height H is `2πRH`.']\n"
          ]
        }
      ]
    },
    {
      "cell_type": "code",
      "source": [
        "# Uncomment the below line and run this cell if you want to clear the collection and start over.\n",
        "\n",
        "# chroma_client.delete_collection(\"interesting_facts\")"
      ],
      "metadata": {
        "id": "hHPnloRZ-6SF"
      },
      "execution_count": 8,
      "outputs": []
    },
    {
      "cell_type": "markdown",
      "source": [
        "✨ Semantic search"
      ],
      "metadata": {
        "id": "jVW7rUP6RHEy"
      }
    },
    {
      "cell_type": "code",
      "source": [
        "results = facts_collection.query(query_texts=[\n",
        "    \"What are the downsides of having pets at work?\"\n",
        "], n_results=2)\n",
        "\n",
        "results"
      ],
      "metadata": {
        "colab": {
          "base_uri": "https://localhost:8080/"
        },
        "id": "wu_wNXhNAP14",
        "outputId": "7d30e94b-24ea-48a8-dc83-31feef29fc3b"
      },
      "execution_count": 9,
      "outputs": [
        {
          "output_type": "execute_result",
          "data": {
            "text/plain": [
              "{'ids': [['-0x1eac65dc', '0x6d8504ee']],\n",
              " 'distances': [[0.7810479402542114, 0.8007870316505432]],\n",
              " 'metadatas': [[{'source': 'pets'}, {'source': 'pets'}]],\n",
              " 'embeddings': None,\n",
              " 'documents': [['\\n    Employees might feel left out if they are required to avoid certain areas of\\nthe office due to an allergy or a fear of dogs or cats\\n    ',\n",
              "   '\\n    As an integrated part of modern life, animals play the role of domestic companions, give\\nphysical and emotional support to humans, and provide value to many types of organizations\\n(e.g., search and rescue dogs, zoo animals). Animals are also becoming more present in\\norganizations due to employees and customers who bring their pets into the workplace. In\\naddition, the integration of pets into individuals’ family lives also plays an important role in\\nemployees’ work-family dynamics.\\n    ']],\n",
              " 'uris': None,\n",
              " 'data': None,\n",
              " 'included': ['metadatas', 'documents', 'distances']}"
            ]
          },
          "metadata": {},
          "execution_count": 9
        }
      ]
    },
    {
      "cell_type": "markdown",
      "source": [
        "## FAISS\n",
        "\n",
        "(Ref: [https://ai.meta.com/tools/faiss/](https://ai.meta.com/tools/faiss/))\n",
        "\n",
        "\n",
        "FAISS (Facebook AI Similarity Search) is a library that allows developers to quickly search ... multimedia documents that are similar to each other. It solves limitations of traditional query search engines that are optimized for hash-based searches, and provides more scalable similarity search functions.\n",
        "\n",
        "Compared to ChromaDB, FAISS has a lower level abstraction. It is designed to be flexible and can be used as an engine for building a custom vector database."
      ],
      "metadata": {
        "id": "rOsGGrG0GBsp"
      }
    },
    {
      "cell_type": "markdown",
      "source": [
        "First, we will create an embedding model object."
      ],
      "metadata": {
        "id": "EQk4yzKGbITj"
      }
    },
    {
      "cell_type": "code",
      "source": [
        "from sentence_transformers import SentenceTransformer\n",
        "\n",
        "# initialize sentence transformer model\n",
        "model = SentenceTransformer('all-MiniLM-L6-v2')\n",
        "\n",
        "# You can try other SentenceTransformer models, e.g.:\n",
        "# model = SentenceTransformer('bert-base-nli-mean-tokens')\n",
        "\n",
        "# ... or from other providers like OpenAI\n",
        "# !pip install openai[embeddings]\n",
        "# model = OpenAI(model='text-embedding-3-small')\n",
        "# model = OpenAI(model='text-embedding-3-large')\n",
        "# model = OpenAI(model='text-embedding-ada-002')"
      ],
      "metadata": {
        "colab": {
          "base_uri": "https://localhost:8080/"
        },
        "id": "pVw4rBZHDWJC",
        "outputId": "94bf4aac-28bd-4aa3-b6fc-eaacc3e0249d"
      },
      "execution_count": 40,
      "outputs": [
        {
          "output_type": "stream",
          "name": "stderr",
          "text": [
            "/usr/local/lib/python3.10/dist-packages/huggingface_hub/file_download.py:1132: FutureWarning: `resume_download` is deprecated and will be removed in version 1.0.0. Downloads always resume when possible. If you want to force a new download, use `force_download=True`.\n",
            "  warnings.warn(\n"
          ]
        }
      ]
    },
    {
      "cell_type": "code",
      "source": [
        "# create sentence embeddings\n",
        "math_embeddings = model.encode(math_statements)\n",
        "pets_embeddings = model.encode(pets_statements)\n",
        "\n",
        "print(\"Math embeddings shape (items, dimensions): \", math_embeddings.shape)\n",
        "print(\"Pets embeddings shape (items, dimensions): \", pets_embeddings.shape)"
      ],
      "metadata": {
        "colab": {
          "base_uri": "https://localhost:8080/"
        },
        "id": "Fu07VAYXKeJU",
        "outputId": "0c39cc82-f598-4ebe-c2e5-ba43a77e3813"
      },
      "execution_count": 11,
      "outputs": [
        {
          "output_type": "stream",
          "name": "stdout",
          "text": [
            "Math embeddings shape (items, dimensions):  (7, 384)\n",
            "Pets embeddings shape (items, dimensions):  (5, 384)\n"
          ]
        }
      ]
    },
    {
      "cell_type": "code",
      "source": [
        "import faiss\n",
        "\n",
        "\n",
        "facts_index = faiss.IndexFlatL2(model.get_sentence_embedding_dimension())\n",
        "\n",
        "facts_index.add(math_embeddings)\n",
        "facts_index.add(pets_embeddings)\n",
        "\n",
        "facts_index.ntotal"
      ],
      "metadata": {
        "colab": {
          "base_uri": "https://localhost:8080/"
        },
        "id": "0jKQmaSwItvk",
        "outputId": "1a6332a2-76de-4401-dfc0-2b49d5fbe9dc"
      },
      "execution_count": 12,
      "outputs": [
        {
          "output_type": "execute_result",
          "data": {
            "text/plain": [
              "12"
            ]
          },
          "metadata": {},
          "execution_count": 12
        }
      ]
    },
    {
      "cell_type": "code",
      "source": [
        "from typing import List\n",
        "from faiss import Index\n",
        "\n",
        "\n",
        "def search_faiss_index(query_text: str, n_results=1) -> List[str]:\n",
        "  \"\"\"\n",
        "  Convenience function to make it easier to query the index\n",
        "  with different text queries.\n",
        "  \"\"\"\n",
        "\n",
        "  global all_statements\n",
        "  global model\n",
        "  global facts_index\n",
        "\n",
        "  # Encode the query into embeddings\n",
        "  query = model.encode([query_text])\n",
        "\n",
        "  # Find the closest embeddings\n",
        "  distances, indices = facts_index.search(query, n_results)\n",
        "\n",
        "  # Lookup statements corresponding to the embedding position\n",
        "  matching_statements = [all_statements[i] for i in indices[0]]\n",
        "\n",
        "  return matching_statements\n"
      ],
      "metadata": {
        "id": "d5yl0ZgcMWg2"
      },
      "execution_count": 16,
      "outputs": []
    },
    {
      "cell_type": "code",
      "source": [
        "results = search_faiss_index(query_text=\"What is the area of a trapezoid?\")\n",
        "results"
      ],
      "metadata": {
        "colab": {
          "base_uri": "https://localhost:8080/"
        },
        "id": "di5f_opZOrYY",
        "outputId": "401ee77a-8cde-4118-92c8-cf027e9352b1"
      },
      "execution_count": 17,
      "outputs": [
        {
          "output_type": "execute_result",
          "data": {
            "text/plain": [
              "['The area of a trapezoid with parallel sides A, B and height H is `H(A+B)/2`.']"
            ]
          },
          "metadata": {},
          "execution_count": 17
        }
      ]
    },
    {
      "cell_type": "code",
      "source": [
        "query_texts = [\n",
        "    \"What is the area of a trapezium?\",\n",
        "    \"What is the area of a rectangular shape?\",\n",
        "    \"What is the surface area of a rectangular prism?\",\n",
        "    \"What is the area of a circular shape?\",\n",
        "    \"What is the surface area of a circular cone?\",\n",
        "    \"What is the area of a cone?\",\n",
        "    \"What are the downsides of having pets at work?\",\n",
        "  ]\n",
        "\n",
        "for query_text in query_texts:\n",
        "  results = search_faiss_index(query_text=query_text, n_results=1)\n",
        "  print(query_text, results)"
      ],
      "metadata": {
        "colab": {
          "base_uri": "https://localhost:8080/"
        },
        "id": "q50fZOyNPBDh",
        "outputId": "dda99a51-14ab-4978-f1b6-2add190eb3a4"
      },
      "execution_count": 18,
      "outputs": [
        {
          "output_type": "stream",
          "name": "stdout",
          "text": [
            "What is the area of a trapezium? ['The area of a trapezoid with parallel sides A, B and height H is `H(A+B)/2`.']\n",
            "What is the area of a rectangular shape? ['The area of a rectangle with dimensions L & W is LH.']\n",
            "What is the surface area of a rectangular prism? ['The surface area of a retangular prism with dimensions H, L, B is `2(LB + BH + HL)`.']\n",
            "What is the area of a circular shape? ['The area of a circle with radius R is `πR²`.']\n",
            "What is the surface area of a circular cone? ['The surface area of a right circular cone with radius of base R and height H is `2πRH`.']\n",
            "What is the area of a cone? ['The surface area of a right circular cone with radius of base R and height H is `2πRH`.']\n",
            "What are the downsides of having pets at work? ['\\n    Employees might feel left out if they are required to avoid certain areas of\\nthe office due to an allergy or a fear of dogs or cats\\n    ']\n"
          ]
        }
      ]
    },
    {
      "cell_type": "markdown",
      "source": [
        "## Pinecone"
      ],
      "metadata": {
        "id": "c-idFzypv_vi"
      }
    },
    {
      "cell_type": "markdown",
      "source": [
        "### Setting up Pinecone\n",
        "\n",
        "1. Create an account at https://app.pinecone.io/ (You may use Google/Github/Microsoft auth).\n",
        "2. Login and get or create an API Key (Manage > API Keys > Copy key value).\n",
        "3. Create a Colab secret named `PINECONE_API_KEY` and paste the copied value.\n",
        "4. Enable the secret for this notebook (sliding toggle next to secret name)."
      ],
      "metadata": {
        "id": "ZVZ1qUQpxVRw"
      }
    },
    {
      "cell_type": "markdown",
      "source": [
        "### Using Pinecone"
      ],
      "metadata": {
        "id": "G1MggBKZyWjT"
      }
    },
    {
      "cell_type": "markdown",
      "source": [
        "For this session, we will be creating a `Serverless` index.\n",
        "\n",
        "Pinecone also supports what they call a `pod-based` index. The difference between the 2 is roughly analogous to using a serverless AWS service vs a managed AWS service. i.e. with `pod-based` index, you need to pick and configure a few more parameters.\n",
        "\n",
        "Generally, it seems like `serverless` is what Pinecone is promoting as the lower cost and hassle-free option. So it's a good option to start with."
      ],
      "metadata": {
        "id": "xu6JJU1ay0P6"
      }
    },
    {
      "cell_type": "code",
      "source": [
        "from pinecone.grpc import PineconeGRPC as Pinecone\n",
        "from pinecone import ServerlessSpec\n",
        "\n",
        "from google.colab import userdata\n",
        "\n",
        "pinecone_api_key = userdata.get('PINECONE_API_KEY')\n",
        "\n",
        "pc = Pinecone(api_key=pinecone_api_key)\n"
      ],
      "metadata": {
        "id": "maMqR7EkwB65"
      },
      "execution_count": 34,
      "outputs": []
    },
    {
      "cell_type": "code",
      "source": [
        "import mmh3\n"
      ],
      "metadata": {
        "id": "MuY5J7qNzoLb"
      },
      "execution_count": 41,
      "outputs": []
    },
    {
      "cell_type": "code",
      "source": [
        "from sentence_transformers import SentenceTransformer\n",
        "\n",
        "# initialize sentence transformer model\n",
        "model = SentenceTransformer('all-MiniLM-L6-v2')\n",
        "\n",
        "# You can try other SentenceTransformer models, e.g.:\n",
        "# model = SentenceTransformer('bert-base-nli-mean-tokens')\n",
        "\n",
        "# ... or from other providers like OpenAI\n",
        "# !pip install openai[embeddings]\n",
        "# model = OpenAI(model='text-embedding-3-small')\n",
        "# model = OpenAI(model='text-embedding-3-large')\n",
        "# model = OpenAI(model='text-embedding-ada-002')"
      ],
      "metadata": {
        "id": "buOm1ueU4tAc"
      },
      "execution_count": 42,
      "outputs": []
    },
    {
      "cell_type": "markdown",
      "source": [
        "Now we will create the pinecone index. The index will be created remotely in the Pinecone service.\n",
        "\n",
        "Note:\n",
        "1. `create_index` does not return the index object.\n",
        "2. Pinecone index names cannot container `_` character.\n",
        "3. `create_index` is not rerunnable. It fails if the index is already created.\n",
        "\n"
      ],
      "metadata": {
        "id": "OvCSNuns6i9-"
      }
    },
    {
      "cell_type": "code",
      "source": [
        "\n",
        "pc.create_index(\n",
        "  name=\"interesting-facts\",\n",
        "  dimension=model.get_sentence_embedding_dimension(),\n",
        "  metric=\"cosine\",\n",
        "  spec=ServerlessSpec(\n",
        "    cloud=\"aws\",\n",
        "    region=\"us-east-1\"\n",
        "  )\n",
        ")"
      ],
      "metadata": {
        "id": "hyGFIIOE6EbH"
      },
      "execution_count": 56,
      "outputs": []
    },
    {
      "cell_type": "code",
      "source": [
        "pc_index = pc.Index(\"interesting-facts\")\n",
        "\n",
        "for statement in math_statements:\n",
        "  pc_index.upsert(\n",
        "      vectors=[\n",
        "          {\n",
        "              'id': hex(mmh3.hash(statement)),\n",
        "              'values': model.encode(statement),\n",
        "              'metadata': {'source': 'math', 'text': statement}\n",
        "          }\n",
        "      ]\n",
        "  )\n",
        "\n",
        "for statement in pets_statements:\n",
        "  pc_index.upsert(\n",
        "      vectors=[\n",
        "          {\n",
        "              'id': hex(mmh3.hash(statement)),\n",
        "              'values': model.encode(statement),\n",
        "              'metadata': {'source': 'pets', 'text': statement}\n",
        "          }\n",
        "      ]\n",
        "  )"
      ],
      "metadata": {
        "id": "-LNDv8Gq4wLy"
      },
      "execution_count": 57,
      "outputs": []
    },
    {
      "cell_type": "code",
      "source": [
        "# Uncomment and run to delete index\n",
        "\n",
        "# pc.delete_index(\"interesting-facts\")"
      ],
      "metadata": {
        "id": "bjFn2wc45Ifa"
      },
      "execution_count": 54,
      "outputs": []
    },
    {
      "cell_type": "code",
      "source": [
        "query_texts = [\n",
        "    \"What is the area of a trapezium?\",\n",
        "    \"What is the area of a rectangular shape?\",\n",
        "    \"What is the surface area of a rectangular prism?\",\n",
        "    \"What is the area of a circular shape?\",\n",
        "    \"What is the surface area of a circular cone?\",\n",
        "    \"What is the area of a cone?\",\n",
        "    \"What are the downsides of having pets at work?\",\n",
        "  ]\n",
        "\n",
        "sample_results = None\n",
        "for query_text in query_texts:\n",
        "  results = pc_index.query(\n",
        "      vector=model.encode(query_text),\n",
        "      top_k=1,\n",
        "      include_values=False,\n",
        "      include_metadata=True,\n",
        "  )\n",
        "  metadata = results['matches'][0]['metadata']  # Pick [0] since top_k = 1\n",
        "\n",
        "  sample_results = results\n",
        "  print(query_text, f\"[category: {metadata['source']}]\", metadata['text'])\n"
      ],
      "metadata": {
        "colab": {
          "base_uri": "https://localhost:8080/"
        },
        "id": "XDcic1j-5Lr8",
        "outputId": "f3bb5bd2-4dfd-4cb1-d95f-33bb4000b728"
      },
      "execution_count": 69,
      "outputs": [
        {
          "output_type": "stream",
          "name": "stdout",
          "text": [
            "What is the area of a trapezium? [category: math] The area of a trapezoid with parallel sides A, B and height H is `H(A+B)/2`.\n",
            "What is the area of a rectangular shape? [category: math] The area of a rectangle with dimensions L & W is LH.\n",
            "What is the surface area of a rectangular prism? [category: math] The surface area of a retangular prism with dimensions H, L, B is `2(LB + BH + HL)`.\n",
            "What is the area of a circular shape? [category: math] The area of a circle with radius R is `πR²`.\n",
            "What is the surface area of a circular cone? [category: math] The surface area of a right circular cone with radius of base R and height H is `2πRH`.\n",
            "What is the area of a cone? [category: math] The surface area of a right circular cone with radius of base R and height H is `2πRH`.\n",
            "What are the downsides of having pets at work? [category: pets] \n",
            "    Employees might feel left out if they are required to avoid certain areas of\n",
            "the office due to an allergy or a fear of dogs or cats\n",
            "    \n"
          ]
        }
      ]
    },
    {
      "cell_type": "code",
      "source": [],
      "metadata": {
        "id": "dYbYkNMp9aBH"
      },
      "execution_count": null,
      "outputs": []
    }
  ]
}